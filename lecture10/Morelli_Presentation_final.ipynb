{
 "cells": [
  {
   "cell_type": "markdown",
   "metadata": {
    "slideshow": {
     "slide_type": "slide"
    }
   },
   "source": [
    "### What is the CompEcon Toolbox?\n",
    "\n",
    "* It is a MATLAB toolbox supporting Miranda and Fackler (2005): \"Applied Computational Economics and Finance\".\n",
    "\n",
    "\n",
    "* The library functions include:\n",
    "    * Rootfinding and optimization solvers\n",
    "    * Function approximation using polynomials, splines and other functional families\n",
    "    * Numerical integration"
   ]
  },
  {
   "cell_type": "markdown",
   "metadata": {
    "slideshow": {
     "slide_type": "subslide"
    }
   },
   "source": [
    "* [continued...]\n",
    "    * Solvers for Ordinary Differential Equations\n",
    "    * Routines solving discrete and continuous time dynamic programming problems\n",
    "    * Solvers for financial derivatives\n",
    "\n",
    "\n",
    "* The toolbox has been translated to **Julia** by Spencer Lyon."
   ]
  },
  {
   "cell_type": "markdown",
   "metadata": {
    "slideshow": {
     "slide_type": "slide"
    }
   },
   "source": [
    "### Interpolations Using CompEcon\n",
    "\n",
    "* The CompEcon toolbox allows us to compute interpolations for:\n",
    "\n",
    "    * Any number of dimensions\n",
    "    * Any order of derivative and integral operators\n",
    "    * Any order B-spline, Chebyshev polynomial, and piecewise linear basis functions\n",
    "    * We can mix among different types of families across dimensions (i.e. Chebychev for x and splines for $\\epsilon$)"
   ]
  },
  {
   "cell_type": "markdown",
   "metadata": {
    "slideshow": {
     "slide_type": "slide"
    }
   },
   "source": [
    "### Structure of the Toolbox - Julia Version\n",
    "\n",
    "* Think on 3 main \"theoretical\" categories:\n",
    "\n",
    "    1. A functional `Basis`: Family of basis functions; Domain; Interpolation Nodes [see `basis.jl`].\n",
    "    2. A `BasisStructure` representation: it evaluates the basis functions at the desired interpolation nodes [see `basis_structure.jl`].\n",
    "    3. Coefficient vector: map from the domain of the `Basis` to the real line [obtained by solving linear system of equations]."
   ]
  },
  {
   "cell_type": "markdown",
   "metadata": {
    "slideshow": {
     "slide_type": "subslide"
    }
   },
   "source": [
    "* This general structure is going to become clearer once we go into an example model.\n",
    "\n",
    "\n",
    "* This theoretical construct is mapped into **Julia** by defining groups of types\n",
    "\n",
    "\n",
    "* See https://github.com/spencerlyon2/CompEcon.jl"
   ]
  },
  {
   "cell_type": "markdown",
   "metadata": {
    "slideshow": {
     "slide_type": "slide"
    }
   },
   "source": [
    "### Group of Types\n",
    "\n",
    "**Group 1:** types to represent the `Basis` in `Basis.jl`.\n",
    "* `BasisFamily`: abstract type that defines the interpolant families.\n",
    "```Julia\n",
    "abstract BasisFamily\n",
    "immutable Cheb <: BasisFamily end\n",
    "immutable Lin <: BasisFamily end\n",
    "immutable Spline <: BasisFamily end\n",
    "```"
   ]
  },
  {
   "cell_type": "markdown",
   "metadata": {
    "slideshow": {
     "slide_type": "subslide"
    }
   },
   "source": [
    "* `BasisParams`: abstract type whose fields are all info needed to construct *univariate* basis.\n",
    "```Julia\n",
    "type ChebParams <: BasisParams\n",
    "    n::Int\n",
    "    a::Float64\n",
    "    b::Float64\n",
    "end\n",
    "```"
   ]
  },
  {
   "cell_type": "markdown",
   "metadata": {
    "slideshow": {
     "slide_type": "subslide"
    }
   },
   "source": [
    "```Julia\n",
    "type SplineParams <: BasisParams\n",
    "    breaks::Vector{Float64}\n",
    "    evennum::Int\n",
    "    k::Int\n",
    "end\n",
    "```\n",
    "```Julia\n",
    "type LinParams <: BasisParams\n",
    "    breaks::Vector{Float64}\n",
    "    evennum::Int\n",
    "end\n",
    "```"
   ]
  },
  {
   "cell_type": "markdown",
   "metadata": {
    "slideshow": {
     "slide_type": "subslide"
    }
   },
   "source": [
    "* `Basis{N}`:\n",
    "```Julia\n",
    "type Basis{N, BF<:BasisFamily, BP<:BasisParams}\n",
    "    basistype::Vector{BF}  # Basis family\n",
    "    n::Vector{Int}         # number of points and/or basis functions\n",
    "    a::Vector{Float64}     # lower bound of domain\n",
    "    b::Vector{Float64}     # upper bound of domain\n",
    "    params::Vector{BP}     # params to construct basis\n",
    "end\n",
    "```"
   ]
  },
  {
   "cell_type": "markdown",
   "metadata": {
    "slideshow": {
     "slide_type": "subslide"
    }
   },
   "source": [
    "* Finally note that inside this file there are two additional useful functions:\n",
    "\n",
    "    1. `nodes`: given the chosen `Basis`, it computes the nodes.\n",
    "    2. `Basis`: used to define the basis and also to create multidimensional basis.\n",
    "   \n",
    "\n",
    "**Group 2:** type to represent the `BasisStructure` in `basis_structure.jl`.\n",
    "\n",
    "* `AbstractBasisStructureRep` [`ABSR`]: it groups the types of representation (Tensor, Direct, Expanded).\n"
   ]
  },
  {
   "cell_type": "markdown",
   "metadata": {
    "slideshow": {
     "slide_type": "subslide"
    }
   },
   "source": [
    "* An important function is `BasisStructure`.\n",
    "\n",
    "    * Its inputs are the `basis`, the type of representation (Tensor, etc) and the nodes.\n",
    "    * Its output is the interpolant valued at the nodes, $\\Phi$ (Matrix).\n",
    "\n",
    "* Another interesting function is `Base.convert` which converts from a `Tensor` or `Direct` `BasisStructure` to an `Expanded` one."
   ]
  },
  {
   "cell_type": "markdown",
   "metadata": {
    "slideshow": {
     "slide_type": "subslide"
    }
   },
   "source": [
    "* For example, the following will convert from direct to expanded.\n",
    "```Julia\n",
    "Φ_direct = BasisStructure(basis, CompEcon.Direct(),snodes,0)\n",
    "Φ = convert(Expanded, Φ_direct, [0 0]).vals[1]\n",
    "```\n",
    "\n",
    "\n",
    "* In the end we will need the expanded version, but the other two are more efficient in terms of storage."
   ]
  },
  {
   "cell_type": "markdown",
   "metadata": {
    "slideshow": {
     "slide_type": "slide"
    }
   },
   "source": [
    "## Quick Example (Same as Spencer's GitHub)\n",
    "\n",
    "### One Dimension:\n",
    "Approximate  $f(x)=e^{-x}$ on $x\\in[-1,1]$ using the three types of interpolations.\n",
    "\n",
    "For a known univariate function $f(x)$ there are 3 ways to approximate it. I will do the three of them, but changing the basis type (Cheb and Splines)."
   ]
  },
  {
   "cell_type": "markdown",
   "metadata": {
    "slideshow": {
     "slide_type": "subslide"
    }
   },
   "source": [
    "```Julia\n",
    "using CompEcon\n",
    "f(x) = exp(-x)\n",
    "a,b = -1.0,1.0\n",
    "```\n",
    "*** Option 1: Using `funfitf`***\n",
    "```Julia\n",
    "n = 10\n",
    "basis_c = Basis(Cheb, n, a, b)\n",
    "c_c = funfitf(basis_c, f)\n",
    "```"
   ]
  },
  {
   "cell_type": "markdown",
   "metadata": {
    "slideshow": {
     "slide_type": "subslide"
    }
   },
   "source": [
    "*** Option 2: Using `funfitxy`***\n",
    "```Julia\n",
    "xgrid = collect(linspace(a,b,n))\n",
    "basis_s = Basis(Spline, xgrid, 0, 1)\n",
    "x_s = nodes(basis_s)[1]\n",
    "y_s = f(x_s)\n",
    "c_s = funfitxy(basis_s, x_s, y_s)[1]\n",
    "```"
   ]
  },
  {
   "cell_type": "markdown",
   "metadata": {
    "slideshow": {
     "slide_type": "subslide"
    }
   },
   "source": [
    "*** Option 3: Using `BasisStructure`***\n",
    "```Julia\n",
    "x_c = nodes(basis_c)[1]\n",
    "y_c = f(x_c)\n",
    "phi_c = BasisStructure(basis_c).vals[1]\n",
    "c_c2 = phi_c\\y_c\n",
    "```"
   ]
  },
  {
   "cell_type": "code",
   "execution_count": 1,
   "metadata": {
    "collapsed": false,
    "slideshow": {
     "slide_type": "slide"
    }
   },
   "outputs": [
    {
     "name": "stderr",
     "output_type": "stream",
     "text": [
      "INFO: Precompiling module CompEcon...\n"
     ]
    },
    {
     "data": {
      "text/plain": [
       "10"
      ]
     },
     "execution_count": 1,
     "metadata": {},
     "output_type": "execute_result"
    }
   ],
   "source": [
    "using CompEcon\n",
    "f(x) = exp(-x)\n",
    "\n",
    "# Set the endpoints of approximation interval:\n",
    "a =  -1.0                            # left endpoint\n",
    "b =   1.0                            # right endpoint\n",
    "n = 10                             # order of approximation"
   ]
  },
  {
   "cell_type": "code",
   "execution_count": 2,
   "metadata": {
    "collapsed": false,
    "slideshow": {
     "slide_type": "slide"
    }
   },
   "outputs": [
    {
     "data": {
      "text/plain": [
       "10-element Array{Float64,1}:\n",
       " 2.71828 \n",
       " 2.17663 \n",
       " 1.74291 \n",
       " 1.39561 \n",
       " 1.11752 \n",
       " 0.894839\n",
       " 0.716531\n",
       " 0.573753\n",
       " 0.459426\n",
       " 0.367879"
      ]
     },
     "execution_count": 2,
     "metadata": {},
     "output_type": "execute_result"
    }
   ],
   "source": [
    "# Option 1: (with Cheb)\n",
    "basis_c = Basis(Cheb, n, a, b)\n",
    "c_c = funfitf(basis_c, f)\n",
    "\n",
    "# Option 2: (with Spline)\n",
    "xgrid = collect(linspace(a,b,n))\n",
    "basis_s = Basis(Spline, xgrid, 0, 1)\n",
    "x_s = nodes(basis_s)[1]\n",
    "y_s = f(x_s)\n",
    "c_s = funfitxy(basis_s, x_s, y_s)[1]"
   ]
  },
  {
   "cell_type": "code",
   "execution_count": 3,
   "metadata": {
    "collapsed": false,
    "slideshow": {
     "slide_type": "slide"
    }
   },
   "outputs": [
    {
     "name": "stdout",
     "output_type": "stream",
     "text": [
      "Coefficients from options 1 and 3"
     ]
    },
    {
     "data": {
      "text/plain": [
       "10x2 Array{Float64,2}:\n",
       "  1.26607       1.26607    \n",
       " -1.13032      -1.13032    \n",
       "  0.271495      0.271495   \n",
       " -0.0443368    -0.0443368  \n",
       "  0.00547424    0.00547424 \n",
       " -0.000542926  -0.000542926\n",
       "  4.49773e-5    4.49773e-5 \n",
       " -3.19844e-6   -3.19844e-6 \n",
       "  1.99211e-7    1.99211e-7 \n",
       " -1.10118e-8   -1.10118e-8 "
      ]
     },
     "execution_count": 3,
     "metadata": {},
     "output_type": "execute_result"
    }
   ],
   "source": [
    "# Option 3: (with Cheb again)\n",
    "x_c = nodes(basis_c)[1]\n",
    "y_c = f(x_c)\n",
    "phi_c = BasisStructure(basis_c, CompEcon.Expanded(),x_c).vals[1]\n",
    "c_c2 = phi_c\\y_c\n",
    "\n",
    "\n",
    "# Compare different approaches\n",
    "print(\"Coefficients from options 1 and 3\")\n",
    "[c_c c_c2]"
   ]
  },
  {
   "cell_type": "code",
   "execution_count": 4,
   "metadata": {
    "collapsed": false,
    "slideshow": {
     "slide_type": "slide"
    }
   },
   "outputs": [
    {
     "data": {
      "image/png": "[encoded data removed]",
      "text/plain": [
       "PyPlot.Figure(PyObject <matplotlib.figure.Figure object at 0x3226f8690>)"
      ]
     },
     "metadata": {},
     "output_type": "display_data"
    },
    {
     "data": {
      "text/plain": [
       "PyObject <matplotlib.legend.Legend object at 0x324f4c050>"
      ]
     },
     "execution_count": 4,
     "metadata": {},
     "output_type": "execute_result"
    }
   ],
   "source": [
    "# Having computed the basis coefficients, one may now evaluate the\n",
    "# approximant at any point x using funeval:\n",
    "xvals = collect(linspace(-1.0,1.0,50))\n",
    "y_c = funeval(c_c, basis_c, xvals)\n",
    "y_s = funeval(c_s, basis_s, xvals)\n",
    "yy = f(xvals)\n",
    "\n",
    "yvals = [y_c y_s yy]\n",
    "\n",
    "Method = [\"Cheb\", \"Spline\", \"True Function\"]\n",
    "\n",
    "using PyPlot\n",
    "fig, ax = subplots()\n",
    "for i=1:3\n",
    "    meth = Method[i]\n",
    "    ax[:plot](xvals, yvals[:,i], linewidth=2, alpha=0.6, label=L\"$Method$ =\"\" $meth\")\n",
    "end\n",
    "ax[:legend](loc=1)"
   ]
  },
  {
   "cell_type": "markdown",
   "metadata": {
    "slideshow": {
     "slide_type": "slide"
    }
   },
   "source": [
    "### Two Dimensions:\n",
    "\n",
    "Let the \"state\" be given by $s=(a,y)$. I take the function $f(s) = \\sqrt{a}\\exp{(y)}$. To generate the interpolation, I use a linear spline for the first variable and a Chebichev polynomial for the second. Then I plot the true value and the interpolation, for different values of $s$.\n",
    "\n",
    "In this example, we get a better approximation by mixing splines and Chebychev, than by just using Chebychev in both arguments."
   ]
  },
  {
   "cell_type": "code",
   "execution_count": 5,
   "metadata": {
    "collapsed": false,
    "slideshow": {
     "slide_type": "slide"
    }
   },
   "outputs": [
    {
     "data": {
      "text/plain": [
       "100-element Array{Float64,1}:\n",
       "     0.0    \n",
       "  4261.44   \n",
       "  6026.58   \n",
       "  7381.03   \n",
       "  8522.88   \n",
       "  9528.87   \n",
       " 10438.3    \n",
       " 11274.7    \n",
       " 12053.2    \n",
       " 12784.3    \n",
       "     0.0    \n",
       "  7614.19   \n",
       " 10768.1    \n",
       "     ⋮      \n",
       "    65.4139 \n",
       "    69.382  \n",
       "     0.0    \n",
       "     5.73206\n",
       "     8.10636\n",
       "     9.92822\n",
       "    11.4641 \n",
       "    12.8173 \n",
       "    14.0406 \n",
       "    15.1656 \n",
       "    16.2127 \n",
       "    17.1962 "
      ]
     },
     "execution_count": 5,
     "metadata": {},
     "output_type": "execute_result"
    }
   ],
   "source": [
    "fun2(st) = sqrt(st[:,1]).*exp(st[:,2])\n",
    "\n",
    "agrid0 = collect(linspace(0.0,10.0,10))\n",
    "\n",
    "a_basis = Basis(Spline, agrid0, 0, 1)\n",
    "y_basis = Basis(Cheb, 10, 0.0, 10.0)\n",
    "basis2 = Basis(a_basis, y_basis)\n",
    "\n",
    "c_2d = funfitf(basis2, fun2)"
   ]
  },
  {
   "cell_type": "code",
   "execution_count": 6,
   "metadata": {
    "collapsed": false,
    "slideshow": {
     "slide_type": "slide"
    }
   },
   "outputs": [
    {
     "data": {
      "text/plain": [
       "50x2 Array{Float64,2}:\n",
       "     0.0           0.0     \n",
       "     0.401294      0.55403 \n",
       "     0.789375      0.960904\n",
       "     0.922409      1.4433  \n",
       "     1.12674       2.04389 \n",
       "     1.81061       2.80249 \n",
       "     3.07046       3.76502 \n",
       "     4.80473       4.98737 \n",
       "     6.98772       6.53882 \n",
       "     9.51032       8.50564 \n",
       "    12.3315       10.9956  \n",
       "    15.4947       14.1431  \n",
       "    19.0017       18.1164  \n",
       "     ⋮                     \n",
       "  6501.88       6498.18    \n",
       "  8075.61       8073.54    \n",
       " 10026.4       10027.5     \n",
       " 12445.9       12450.5     \n",
       " 15447.0       15454.3     \n",
       " 19170.3       19177.5     \n",
       " 23782.5       23791.2     \n",
       " 29491.8       29507.1     \n",
       " 36569.9       36587.4     \n",
       " 45341.5       45355.8     \n",
       " 56205.0       56212.9     \n",
       " 69647.2       69653.8     "
      ]
     },
     "execution_count": 6,
     "metadata": {},
     "output_type": "execute_result"
    }
   ],
   "source": [
    "avals  = collect(linspace(0.0,10.0,50))\n",
    "yvals  = collect(linspace(0.0,10.0,50))\n",
    "svals  = [avals yvals]\n",
    "y_val  = funeval(c_2d, basis2, svals)\n",
    "y_true = fun2(svals)\n",
    "\n",
    "yvals2d = [y_val y_true]"
   ]
  },
  {
   "cell_type": "code",
   "execution_count": 7,
   "metadata": {
    "collapsed": false,
    "slideshow": {
     "slide_type": "slide"
    }
   },
   "outputs": [
    {
     "data": {
      "image/png": "[encoded data removed]",
      "text/plain": [
       "PyPlot.Figure(PyObject <matplotlib.figure.Figure object at 0x324b9ea10>)"
      ]
     },
     "metadata": {},
     "output_type": "display_data"
    },
    {
     "data": {
      "text/plain": [
       "PyObject <matplotlib.legend.Legend object at 0x324b45750>"
      ]
     },
     "execution_count": 7,
     "metadata": {},
     "output_type": "execute_result"
    }
   ],
   "source": [
    "Method = [\"Interpolation\", \"True Function\"]\n",
    "\n",
    "using PyPlot\n",
    "\n",
    "fig, ax = subplots()\n",
    "for i=1:2\n",
    "    meth = Method[i]\n",
    "    ax[:plot](1:1:50, yvals2d[:,i], linewidth=2, alpha=0.6, label=L\"$Method$ =\"\" $meth\")\n",
    "end\n",
    "ax[:legend](loc=1)"
   ]
  },
  {
   "cell_type": "markdown",
   "metadata": {
    "slideshow": {
     "slide_type": "slide"
    }
   },
   "source": [
    "### Baseline Model: Economic Growth\n",
    "\n",
    "* Consider an economy that produces and consumes a single composite good.\n",
    "* Infinite horizon. Continuous state and action.\n",
    "* At the begining of period $t$ it has $s\\in(0,\\infty)$ units, of which invests $x\\in[0,s)$.\n",
    "* State transition function: $s=g(s,x,\\epsilon)=\\gamma x+\\epsilon f(x)$."
   ]
  },
  {
   "cell_type": "markdown",
   "metadata": {
    "slideshow": {
     "slide_type": "subslide"
    }
   },
   "source": [
    "* Rewards function:\n",
    "\\begin{equation}\n",
    "F(s,x)=u(s-x)=\\frac{(s-x)^{1-\\alpha}}{1-\\alpha}\n",
    "\\end{equation}\n",
    "* Bellman Equation:\n",
    "\\begin{equation}\n",
    "V\\left(\\left[x,\\epsilon\\right]\\right)=\\max_{0\\leq x'\\leq s=g\\left(x,\\epsilon\\right)}\\left\\{u\\left(g\\left(x,\\epsilon\\right)-x'\\right)+\\delta E_{\\epsilon'}V\\left(\\left[x',\\epsilon'\\right]\\right)\\right\\}\n",
    "\\end{equation}\n",
    "* Assume $u'(0)=-\\infty$ and $h(0)=0$"
   ]
  },
  {
   "cell_type": "markdown",
   "metadata": {
    "slideshow": {
     "slide_type": "subslide"
    }
   },
   "source": [
    "* From FOC, we get the Euler equation:\n",
    "\\begin{equation}\n",
    "u_{t}'=\\delta E_{t}\\left[u_{t+1}'\\left(\\gamma+\\epsilon_{t+1}f_{t}'\\right)\\right]\n",
    "\\end{equation}\n",
    "* Steady State ($\\epsilon=1$):\n",
    "    * $u'\\left(s^{*}-x^{*}\\right)=\\delta\\lambda^{*}\\left[\\gamma+f'\\left(x^{*}\\right)\\right]$\n",
    "    * $\\lambda^{*}=u'\\left(s^{*}-x^{*}\\right)$\n",
    "    * $s^{*}=\\gamma x^{*}+f\\left(x^{*}\\right)$\n",
    "    \n",
    "    \n",
    "* CE SS conditions imply the golden rule $1-\\gamma+r=f'(x^{*})$ where $\\delta=1/(1+r)$"
   ]
  },
  {
   "cell_type": "markdown",
   "metadata": {
    "slideshow": {
     "slide_type": "subslide"
    }
   },
   "source": [
    "To approximate the solution, I follow Simon Mongey's notes given during Gianlucca Violante's course.\n",
    "   \n",
    "   * Define the set of collocation nodes $s = [\\mathbf{1}_{Nz}\\otimes{}\\mathbf{X},\\mathbf{Z}\\otimes{}\\mathbf{1}_{Nx}]$ and let $N=N_{x}\\text{x}N_{z}$\n",
    "   \n",
    "   * We can define the following system:\n",
    "   \\begin{equation}\n",
    "   V(s_{i}) = \\max_{x'\\in B(s_{i})}F(s_{i},x')+\\beta V_{e}([x',s_{i,2}]) \\\\\n",
    "   V_{e}(s_{i}) = \\sum_{k=1}^{Nz}P(z,z_{k}')V([s_{i,1},z'_{k}])\n",
    "   \\end{equation}"
   ]
  },
  {
   "cell_type": "markdown",
   "metadata": {
    "slideshow": {
     "slide_type": "subslide"
    }
   },
   "source": [
    "   * If we substitute for the interpolants:\n",
    "   \n",
    "   \\begin{equation}\n",
    "   \\sum_{j=1}^{N}\\phi(s_{i})c_{j}= \\max_{x'\\in B(s_{i})}F(s_{i},x')+\\beta\\sum_{j=1}^{N}\\phi([x',s_{i,2}])c_{j}^{e} \\\\\n",
    "   \\sum_{j=1}^{N}\\phi(s_{i})c_{j}^{e}= \\sum_{k=1}^{Nz}P(z,z_{k}')\\sum_{j=1}^{N}\\phi([s_{i,1},z'_{k}])c_{j}\n",
    "   \\end{equation}"
   ]
  },
  {
   "cell_type": "markdown",
   "metadata": {
    "slideshow": {
     "slide_type": "subslide"
    }
   },
   "source": [
    "   * ... and write it in a stacked form, we get:\n",
    "   \n",
    "     \\begin{equation}\n",
    "   \\Phi(s) = \\max_{x'\\in\\mathbf{B}(s)}F(s,x')+\\beta\\Phi([x',s_{2}])c^{e} \\\\\n",
    "   \\Phi(s)c^{e} = (P\\otimes{}\\mathbf{I}_{Nx})\\Phi(s)c\n",
    "   \\end{equation}\n",
    "   \n",
    "   \n",
    "   * Note: recall $\\Phi([a,b,c])=\\Phi_{a}\\Phi_{b}\\Phi_{c}$. It is going to be useful later, and it is associated to the `Direct` specification.\n",
    "   \n",
    "   \n",
    "   * The following scripts solves this model using Julia's version of CompEcon written by Spencer Lyon."
   ]
  },
  {
   "cell_type": "markdown",
   "metadata": {
    "slideshow": {
     "slide_type": "subslide"
    }
   },
   "source": [
    "* In the following first block I define the Economic Growth model type EconGrowth and auxiliary functions. Some of them are going to be part of the EconGrowth model, since are intrinsic to this specific model.\n",
    "\n",
    "\n",
    "* In particular, these functions are the utility function, the production function and the law of motion for wealth.\n",
    "The auxiliary functions are for the discretization of the stochastic process and the definition of the basis."
   ]
  },
  {
   "cell_type": "code",
   "execution_count": 11,
   "metadata": {
    "collapsed": false,
    "slideshow": {
     "slide_type": "slide"
    }
   },
   "outputs": [
    {
     "data": {
      "text/plain": [
       "steady_state (generic function with 1 method)"
      ]
     },
     "execution_count": 11,
     "metadata": {},
     "output_type": "execute_result"
    }
   ],
   "source": [
    "using CompEcon\n",
    "\n",
    "# Step 0: Define the Economic Growth model type EconGrowth\n",
    "\n",
    "type EconGrowth\n",
    "    a::Float64\n",
    "    b::Float64\n",
    "    nx::Int64\n",
    "    m::Int64\n",
    "    σ::Float64\n",
    "    δ::Float64\n",
    "    α::Float64\n",
    "    β::Float64\n",
    "    γ::Float64\n",
    "    basis::Basis\n",
    "    bs::BasisStructure\n",
    "    Φ::SparseMatrixCSC{Float64,Int}\n",
    "    snodes::Matrix{Float64}\n",
    "    ϵ::Vector{Float64}\n",
    "    P::Matrix{Float64}\n",
    "    tol::Float64 # Tolerance Level.\n",
    "    maxit::Int # Maximum iterations.\n",
    "end\n",
    "\n",
    "# Step 1: Define the model's functions\n",
    "f(eg::EconGrowth, x) = x.^eg.β\n",
    "g(eg::EconGrowth, sn=eg.snodes) = eg.γ*sn[:,1] + sn[:,2].*f(eg, sn[:,1])\n",
    "u(eg::EconGrowth, sn, xprime) = (g(eg, sn)-xprime).^(1-eg.α)./(1-eg.α)\n",
    "\n",
    "\n",
    "# Step 2: Discretize stochastic process and build interpolation basis.\n",
    "# Wrap up everything in the EconGrowth function.\n",
    "\n",
    "function EconGrowth(;a::Float64=2.0,\n",
    "                     b::Float64=8.0,\n",
    "                     nx::Int64=10,\n",
    "                     m::Int64=3,\n",
    "                     σ::Float64=0.1,\n",
    "                     δ::Float64=0.9,\n",
    "                     α::Float64=2.0,\n",
    "                     β::Float64=0.5,\n",
    "                     γ::Float64=0.9,\n",
    "                     tol::Float64=1e-9,\n",
    "                     maxit::Int=10_000)\n",
    "    \n",
    "    # Discretize stochastic process\n",
    "    ϵ, ω = qnwlogn(m, 0, σ^2) # quadrature for lognormal\n",
    "    P = repmat(ω', m, 1) # Since the process is i.i.d but I wanted to keep the general structure.\n",
    "\n",
    "    # Build interpolation basis\n",
    "#     x_params = SplineParams(nx, a, b, 1)\n",
    "    x_params = ChebParams(nx, a, b)\n",
    "    z_params = LinParams(ϵ, 0)\n",
    "    basis = Basis(x_params, z_params)\n",
    "    snodes, (xnodes, znodes) = nodes(basis)\n",
    "    bs = BasisStructure(basis, Direct(), snodes, [0 0])\n",
    "    Φ = convert(Expanded, bs).vals[1]\n",
    "\n",
    "    EconGrowth(a, b, nx, m, σ, δ, α, β, γ, basis, bs, Φ, snodes, ϵ, P, tol, maxit)\n",
    "end\n",
    "\n",
    "\n",
    "# Step 3: Compute the Steady State\n",
    "\n",
    "function steady_state(eg::EconGrowth)\n",
    "    δ, γ, β, α = eg.δ, eg.γ, eg.β, eg.α\n",
    "\n",
    "    r_ss = 1/δ-1\n",
    "    x_ss = ((1/β)*(1/δ-γ))^(1/(β-1))\n",
    "    s_ss = γ*x_ss+x_ss^β\n",
    "    c_ss = s_ss-x_ss\n",
    "    lambda_ss = (c_ss)^(-α)\n",
    "    vals_ss = [r_ss,x_ss,s_ss,c_ss,lambda_ss]\n",
    "end"
   ]
  },
  {
   "cell_type": "markdown",
   "metadata": {
    "slideshow": {
     "slide_type": "slide"
    }
   },
   "source": [
    "* Next I write down:\n",
    "    * the optimization problem\n",
    "    * the one-setp update function\n",
    "    * and the iteration function\n",
    "    \n",
    "    \n",
    "* For the optimization I choose the CompEcon Golden Method search algorithm. Alternativley I could use a Newton-Rhapson method.\n",
    "\n",
    "\n",
    "* For solving the Bellman Equation using the collocation nodes I just iterate. Alternatively I could use some Newton rootfinding algorithm."
   ]
  },
  {
   "cell_type": "code",
   "execution_count": 12,
   "metadata": {
    "collapsed": false,
    "slideshow": {
     "slide_type": "slide"
    }
   },
   "outputs": [
    {
     "data": {
      "text/plain": [
       "one_step (generic function with 1 method)"
      ]
     },
     "execution_count": 12,
     "metadata": {},
     "output_type": "execute_result"
    }
   ],
   "source": [
    "# Step 4: Write the Optimization Problem\n",
    "function obj_fun(eg::EconGrowth, ce::Array{Float64,1})\n",
    "\n",
    "    function obj(xp)\n",
    "        Φ_xp = BasisStructure(eg.basis[1], Expanded(), xp, [0]).vals[1]\n",
    "        Φ = row_kron(eg.bs.vals[2], Φ_xp)\n",
    "        u(eg, eg.snodes, xp) + eg.δ*Φ*ce\n",
    "    end\n",
    "\n",
    "    x_sol,f_sol = golden_method(obj, zeros(size(eg.snodes, 1)), g(eg, eg.snodes))\n",
    "\n",
    "end\n",
    "\n",
    "\n",
    "# Step 5: Write down the iterative procedure (one-step)\n",
    "# Bellman Iteration\n",
    "\n",
    "function one_step(eg::EconGrowth, cc::Vector{Float64}, ce::Vector{Float64}, P_Φ)\n",
    "    xsol,fsol = obj_fun(eg, ce)\n",
    "    f2 = P_Φ*cc\n",
    "\n",
    "    cc_out = eg.Φ\\fsol\n",
    "    ce_out = eg.Φ\\f2\n",
    "\n",
    "    return cc_out, ce_out\n",
    "end\n"
   ]
  },
  {
   "cell_type": "code",
   "execution_count": 13,
   "metadata": {
    "collapsed": false,
    "slideshow": {
     "slide_type": "slide"
    }
   },
   "outputs": [
    {
     "data": {
      "text/plain": [
       "iter (generic function with 1 method)"
      ]
     },
     "execution_count": 13,
     "metadata": {},
     "output_type": "execute_result"
    }
   ],
   "source": [
    "# Step 6: Define the iteration function\n",
    "function iter(eg::EconGrowth)\n",
    "    iteration = 0\n",
    "    di = 1\n",
    "\n",
    "    n_x = length(nodes(eg.basis.params[1]))\n",
    "    P_Φ = kron(eg.P, eye(n_x))*eg.Φ\n",
    "\n",
    "    cc = zeros(size(eg.snodes, 1))\n",
    "    ce = zeros(size(eg.snodes, 1))\n",
    "\n",
    "    while di>eg.tol\n",
    "        iteration += 1\n",
    "            if iteration > eg.maxit\n",
    "                break\n",
    "            else\n",
    "                cc0 = copy(cc)\n",
    "                ce0 = copy(ce)\n",
    "                cc,ce = one_step(eg, cc0, ce0, P_Φ)\n",
    "\n",
    "                resid1 = norm(cc0-cc)\n",
    "                resid2 = norm(ce0-ce)\n",
    "\n",
    "                di = max(resid1,resid2)\n",
    "#             @printf(\"Iteration %d with distance %.3f\\n\", iteration, di)\n",
    "            end\n",
    "    end\n",
    "\n",
    "    @printf(\"The total number of interations was %d.\\n\", iteration)\n",
    "\n",
    "    return cc, ce\n",
    "end\n"
   ]
  },
  {
   "cell_type": "markdown",
   "metadata": {
    "slideshow": {
     "slide_type": "slide"
    }
   },
   "source": [
    "* Finally I give values to the parameters and use it for input to the EconGrowth type.\n",
    "* With that I can solve the model, given this set of parameters.\n",
    "* Then I plot investment (x) in percentage to wealth (s)."
   ]
  },
  {
   "cell_type": "code",
   "execution_count": 14,
   "metadata": {
    "collapsed": false,
    "slideshow": {
     "slide_type": "slide"
    }
   },
   "outputs": [
    {
     "name": "stdout",
     "output_type": "stream",
     "text": [
      "The steady values are r = 0.11, x = 5.61, s = 7.42, c = 1.81.\n",
      "The total number of interations was 399.\n",
      "The vector of coefficients cc and ce are:\n",
      " [-6.148872886307471 -6.002342157669568\n",
      " 1.4293903189819748 1.3650079743153891\n",
      " -0.30242864651737295 -0.2855586913738545\n",
      " 0.07582912444092556 0.07110552708156713\n",
      " -0.020564340751041413 -0.01916857818324259\n",
      " 0.005832786504948622 0.005428314081603244\n",
      " -0.001693902568331325 -0.0015642406293172348\n",
      " 0.0005136389136891666 0.00047047470848196355\n",
      " -0.00016134840315988502 -0.0001479459366914523\n",
      " 3.90311738547543e-5 4.6834267778081636e-5\n",
      " -6.004497336230137 -6.002342157669568\n",
      " 1.3654432120244933 1.3650079743153891\n",
      " -0.2856095706000873 -0.2855586913738545\n",
      " 0.07109143135780556 0.07110552708156713\n",
      " -0.01917265422820485 -0.01916857818324259\n",
      " 0.0054200956555327815 0.005428314081603244\n",
      " -0.0015684885484024936 -0.0015642406293172348\n",
      " 0.00046658723147519727 0.00047047470848196355\n",
      " -0.00015266865654651554 -0.0001479459366914523\n",
      " 4.653069839378312e-5 4.6834267778081636e-5\n",
      " -5.847190718065334 -6.002342157669568\n",
      " 1.2988846788123891 1.3650079743153891\n",
      " -0.2684852193254001 -0.2855586913738545\n",
      " 0.06643831261725683 0.07110552708156713\n",
      " -0.017756511435591295 -0.01916857818324259\n",
      " 0.005056715362535378 0.005428314081603244\n",
      " -0.0014175870139605676 -0.0015642406293172348\n",
      " 0.00044286041130212354 0.00047047470848196355\n",
      " -0.00011565259080227158 -0.0001479459366914523\n",
      " 5.585163923709981e-5 4.6834267778081636e-5]\n"
     ]
    }
   ],
   "source": [
    "# Computation of the Steady State\n",
    "eg = EconGrowth()\n",
    "vals_ss = steady_state(eg)\n",
    "\n",
    "@printf(\"The steady values are r = %.2f, x = %.2f, s = %.2f, c = %.2f.\\n\"\n",
    ",vals_ss[1],vals_ss[2],vals_ss[3],vals_ss[4])\n",
    "\n",
    "# Solution to the Model\n",
    "cc, ce = iter(eg)\n",
    "\n",
    "println(\"The vector of coefficients cc and ce are:\\n $([cc ce])\")"
   ]
  },
  {
   "cell_type": "code",
   "execution_count": 49,
   "metadata": {
    "collapsed": false,
    "slideshow": {
     "slide_type": "slide"
    }
   },
   "outputs": [
    {
     "data": {
      "image/png": "[encoded data removed]",
      "text/plain": [
       "PyPlot.Figure(PyObject <matplotlib.figure.Figure object at 0x31d738c10>)"
      ]
     },
     "metadata": {},
     "output_type": "display_data"
    },
    {
     "data": {
      "text/plain": [
       "(PyObject <matplotlib.text.Text object at 0x31dde7450>,PyObject <matplotlib.text.Text object at 0x31de16590>)"
      ]
     },
     "execution_count": 49,
     "metadata": {},
     "output_type": "execute_result"
    }
   ],
   "source": [
    "using PyPlot\n",
    "\n",
    "xsol,fsol = obj_fun(eg,ce)\n",
    "\n",
    "s = g(eg,eg.snodes)\n",
    "\n",
    "yplot = (xsol)./s\n",
    "\n",
    "plot(s[2*eg.nx+1:3*eg.nx],yplot[2*eg.nx+1:3*eg.nx])\n",
    "xlabel(\"Wealth\"), ylabel(\"Investment in % of Wealth\")\n"
   ]
  }
 ],
 "metadata": {
  "celltoolbar": "Slideshow",
  "kernelspec": {
   "display_name": "Julia 0.4.3",
   "language": "julia",
   "name": "julia-0.4"
  },
  "language_info": {
   "file_extension": ".jl",
   "mimetype": "application/julia",
   "name": "julia",
   "version": "0.4.3"
  }
 },
 "nbformat": 4,
 "nbformat_minor": 0
}
