{
 "cells": [
  {
   "cell_type": "markdown",
   "metadata": {},
   "source": [
    "# Parallel programming in Julia\n",
    "#### Pierre Mabille\n",
    "#### April 22, 2016\n",
    "\n",
    "### Adding workers\n",
    "\n",
    "We use multiple processors. I am working with an 8 cores desktop, so I can add 7 processors (\"workers\") in addition to the main one. You won't get an error message if you try to add more (unless you really add too many of them), but it will not improve performance further by magically creating cores.\n",
    "\n",
    "If you are using a PC, you can know its number of cores by typing *Ctrl+Alt+Delete*, go to the Task manager, and look at the number of windows below the label \"CPU Usage History\" (which will also show you the activity of your processors). On a Mac, open the terminal and type *sysctl -n hw.ncpu*. This count includes so-called \"multi/hyper-threaded cores\" (on Intel processors), which are multiple logical cores created out of a single physical core. \n",
    "\n",
    "Whenever you intend to use parallel programming in julia, you should start the file containing the main code by adding additional processors, called \"workers\". "
   ]
  },
  {
   "cell_type": "code",
   "execution_count": 1,
   "metadata": {
    "collapsed": false
   },
   "outputs": [
    {
     "name": "stdout",
     "output_type": "stream",
     "text": [
      "Number of processors:\n",
      "8\n"
     ]
    }
   ],
   "source": [
    "addprocs(7)\n",
    "println(\"Number of processors:\"); println(nprocs())"
   ]
  },
  {
   "cell_type": "markdown",
   "metadata": {},
   "source": [
    "### Remote calls and remote references\n",
    "\n",
    "Now let us look at how parallism works in julia.\n",
    "\n",
    "The function *remotecall(function, processor_nb, vararg)* executes the function *function* on processor number *processor_nb*, where *vararg* are the arguments of the function. Let us for example create a $(2\\times 2)$ matrix of uniformly distributed numbers on processor number 2. By default, processor 1 is the main processor from which messages are sent to launch and coordinate jobs on the other processors."
   ]
  },
  {
   "cell_type": "code",
   "execution_count": 2,
   "metadata": {
    "collapsed": false
   },
   "outputs": [
    {
     "data": {
      "text/plain": [
       "RemoteRef{Channel{Any}}(2,1,8)"
      ]
     },
     "execution_count": 2,
     "metadata": {},
     "output_type": "execute_result"
    }
   ],
   "source": [
    "r = remotecall(rand, 2, 2, 2)"
   ]
  },
  {
   "cell_type": "markdown",
   "metadata": {},
   "source": [
    "*remotecall* creates a remote reference *RemoteRef*, which points to the matrix we generated on processor 2. \n",
    "\n",
    "The main code returns immediately on processor 1. However, since computations run asynchronously on various processors, processor 2 may not have completed the job assigned by processor 1. The function *isready*, which takes remote references as inputs, returns *true* if it did. This is useful for conditioning statements in the main code. \n",
    "\n",
    "The type of the object *r* we created is a *RemoteRef*, so calling *r* directly in the main code in processor 1 won't work. We fetch the actual object the *RemoteRef* is pointing at by using the command *fetch*."
   ]
  },
  {
   "cell_type": "code",
   "execution_count": 3,
   "metadata": {
    "collapsed": false
   },
   "outputs": [
    {
     "name": "stdout",
     "output_type": "stream",
     "text": [
      "Did processor 2 finish the computations?\n",
      "true\n",
      "What is r's type?\n",
      "RemoteRef{Channel{Any}}(2,1,8)\n",
      "What is r?\n",
      "[0.6857857234780877 0.5798774701119049\n",
      " 0.6477623673822637 0.5684685716995346]\n"
     ]
    }
   ],
   "source": [
    "println(\"Did processor 2 finish the computations?\"); println(isready(r))\n",
    "println(\"What is r's type?\"); println(r)\n",
    "println(\"What is r?\"); println(fetch(r))"
   ]
  },
  {
   "cell_type": "markdown",
   "metadata": {},
   "source": [
    "### Macros\n",
    "\n",
    "The syntax and going-back-and-forth between remote calls and remote references is somewhat cumbersome for large and complex codes. This is where macros come in handy. Their position is at the start of the command to be executed.\n",
    "\n",
    "*@spawn* runs the code on *some* worker, whose ID is unknow to us at the time we run the command. *@spawnat* folled by the worker's ID allows to choose the worker on which the command is run. The syntax of the former is lighter and should be preferred in general.\n",
    "\n",
    "Here we add 1 to each of the entries of our matrix *r*. Note that we still need to fetch *r*, because it is defined on processor 2 and we don't know on which processor *@spawn* will run the code. "
   ]
  },
  {
   "cell_type": "code",
   "execution_count": 6,
   "metadata": {
    "collapsed": false
   },
   "outputs": [
    {
     "name": "stdout",
     "output_type": "stream",
     "text": [
      "Did the processor finish the computations?\n",
      "false\n",
      "What is s's type and on which processor was it computed?\n",
      "RemoteRef{Channel{Any}}(4,1,20)\n",
      "What is s?\n",
      "[1.6857857234780877 1.579877470111905\n",
      " 1.6477623673822637 1.5684685716995346]\n",
      "Did the processor finish the computations?\n",
      "false\n",
      "What is s's type and on which processor was it computed?\n",
      "RemoteRef{Channel{Any}}(3,1,23)\n",
      "What is s?\n",
      "[1.6857857234780877 1.579877470111905\n",
      " 1.6477623673822637 1.5684685716995346]\n"
     ]
    }
   ],
   "source": [
    "s = @spawn 1 .+ fetch(r)\n",
    "println(\"Did the processor finish the computations?\"); println(isready(s))\n",
    "println(\"What is s's type and on which processor was it computed?\"); println(s)\n",
    "println(\"What is s?\"); println(fetch(s))\n",
    "\n",
    "s2 = @spawnat 3 1 .+ fetch(r)\n",
    "println(\"Did the processor finish the computations?\"); println(isready(s2))\n",
    "println(\"What is s's type and on which processor was it computed?\"); println(s2)\n",
    "println(\"What is s?\"); println(fetch(s2))"
   ]
  },
  {
   "cell_type": "markdown",
   "metadata": {},
   "source": [
    "Another extremely useful macro is *@everywhere*. As we saw, an object created on some processor will not be available on others unless we *fetch* it. For instance, if we create a random matrix $B$ on processor 3, we won't be able to invert it on processor 5. Defining this matrix *@everywhere* makes it available to all processors, which can read and modify it. "
   ]
  },
  {
   "cell_type": "code",
   "execution_count": 7,
   "metadata": {
    "collapsed": false
   },
   "outputs": [
    {
     "ename": "LoadError",
     "evalue": "LoadError: On worker 5:\nMethodError: `inv` has no method matching inv(::RemoteRef{Channel{Any}})\n in anonymous at multi.jl:910\n in run_work_thunk at multi.jl:651\n in run_work_thunk at multi.jl:660\n in anonymous at task.jl:58\nwhile loading In[7], in expression starting on line 3",
     "output_type": "error",
     "traceback": [
      "LoadError: On worker 5:\nMethodError: `inv` has no method matching inv(::RemoteRef{Channel{Any}})\n in anonymous at multi.jl:910\n in run_work_thunk at multi.jl:651\n in run_work_thunk at multi.jl:660\n in anonymous at task.jl:58\nwhile loading In[7], in expression starting on line 3",
      ""
     ]
    }
   ],
   "source": [
    "B = @spawnat 3 rand(10,10)\n",
    "i = remotecall(inv,5,B)\n",
    "fetch(i)"
   ]
  },
  {
   "cell_type": "code",
   "execution_count": 8,
   "metadata": {
    "collapsed": false
   },
   "outputs": [
    {
     "data": {
      "text/plain": [
       "10x10 Array{Float64,2}:\n",
       "  1.31691     1.11619    0.0590151  …  -0.882174   -2.03266  -0.788132\n",
       "  1.38902     1.58851    0.16104        1.11528    -3.83538  -1.51552 \n",
       "  2.73756     2.0579    -1.35635        0.218679   -4.19781  -3.49267 \n",
       " -2.28582    -1.22763    0.660008       0.170134    2.90604   1.35682 \n",
       " -2.49942    -0.968241  -0.0576566      0.0697848   3.75867   2.63068 \n",
       " -1.62723    -0.892431  -0.0469482  …  -0.13082     3.75347   1.02696 \n",
       "  0.237975   -0.146719  -0.125828       0.51816    -1.75107  -0.321294\n",
       "  0.795711    2.01524    0.0546999      0.430407   -2.74638  -1.62258 \n",
       "  0.0698368  -0.60776   -0.310597      -1.00811     1.95402   1.07503 \n",
       "  0.485333   -2.03081    0.79794       -0.51281     1.30515   1.19486 "
      ]
     },
     "execution_count": 8,
     "metadata": {},
     "output_type": "execute_result"
    }
   ],
   "source": [
    "@everywhere B = rand(10,10)\n",
    "i = remotecall(inv,5,B)\n",
    "fetch(i)"
   ]
  },
  {
   "cell_type": "markdown",
   "metadata": {},
   "source": [
    "This is especially true for large and complex codes, where code files, modules and types loaded and/or defined on the main processor should be defined *@everywhere*, as the growth model example below makes clear. "
   ]
  },
  {
   "cell_type": "markdown",
   "metadata": {},
   "source": [
    "### Parallel maps and parallel loops\n",
    "\n",
    "In practice, parallel maps and parallel loops are the easiest way to do parallel programming in Julia. \n",
    "* *pmap* is better suited for complex computation. It has the same snytax as *map*. Its arguments are ranges of objects whose type depend on the function at hand.\n",
    "* *@parallel for* loops should be used when every iteration involves a small amount of computations. *@parallel* is another macro that automatically parallelizes tasks across workers. Parallel loops running on multiple processors accept outside variables (e.g. vectors, matrices defined in the main code) if they are read-only. Otherwise if each processor modifies the object at hand, parallel loops should be combined with *SharedArray*s, so that the information added by each worker is made available to other workers.\n",
    "\n",
    "An example of *@parallel for* loop is given in the growth model below.\n",
    "\n",
    "Let us give an example for *pmap*. We create a function that generates two random matrices of given sizes, inverts and sums them. We apply it to a collection of matrix sizes, and time the excution for *map* and *pmap*. You can check that they return the same collection of matrices."
   ]
  },
  {
   "cell_type": "code",
   "execution_count": 15,
   "metadata": {
    "collapsed": false
   },
   "outputs": [
    {
     "name": "stdout",
     "output_type": "stream",
     "text": [
      "  0.010229 seconds (9.03 k allocations: 415.130 KB)\n",
      "  0.009455 seconds (451 allocations: 44.234 KB)\n",
      "  0.274861 seconds (5.97 k allocations: 208.271 MB, 17.90% gc time)\n",
      "  0.144038 seconds (129.75 k allocations: 22.908 MB, 1.64% gc time)\n"
     ]
    }
   ],
   "source": [
    "@everywhere function change_matrix(nA::Int64, nB::Int64)\n",
    "    A = rand(nA, nA)\n",
    "    B = rand(nB, nB)\n",
    "    nmin = min(nA,nB)\n",
    "    A = A[1:nmin,1:nmin]\n",
    "    B = B[1:nmin,1:nmin]\n",
    "    return inv(A) .+ inv(B)\n",
    "end\n",
    "\n",
    "@time map(change_matrix, 1:2, 2:3);\n",
    "@time pmap(change_matrix, 1:2, 2:3);\n",
    "\n",
    "@time map(change_matrix, 100:200, 200:300);\n",
    "@time pmap(change_matrix, 100:200, 200:300);"
   ]
  },
  {
   "cell_type": "markdown",
   "metadata": {},
   "source": [
    "# Neoclassical growth model \n",
    "\n",
    "Let us look at a stripped-down version of the neoclassical growth model. The environment is deterministic. Capital $k$ is the only state variable, and there is no depreciation. A representative agent solve the following recursive problem:\n",
    "\n",
    "$$ V(k) = \\max_{c \\in (0,f(k))} u(c) + \\beta V(k')$$\n",
    "$$ k' = f(k) - c$$\n",
    "$$ f(k) = k^\\alpha$$\n",
    "\n",
    "where $\\alpha<1$ and the instantaneous utility function $u$ satisfies the Inada conditions.\n",
    "\n",
    "We solve the model by value function iteration with interpolation of the value function. We compare the speed of the serial solution against the parallel one, for various grids.\n",
    "\n",
    "## Serial solution\n",
    "\n",
    "We use a single processor. \n",
    "\n",
    "We start by loading the modules on the local processor, and define the model parameters. Then we define three functions to solve the model:\n",
    "* *optim_step(k, Vtilde_itp)* solves for the consumption policy function given a state $k$ and an interpolant for the continuation value $Vtilde\\_itp$.\n",
    "* *vfi_map(grid_k, criterion)* solves the model by value function iteration given a capital grid $grid\\_k$ and a convergence criterion $criterion$. It uses the function *map* to compute the value function at the next iteration.\n",
    "* *vfi_loop(grid_k, criterion)* solves the model by value function iteration given a capital grid $grid\\_k$ and a convergence criterion $criterion$. It uses a *for* loop to compute the value function at the next iteration."
   ]
  },
  {
   "cell_type": "code",
   "execution_count": 46,
   "metadata": {
    "collapsed": false
   },
   "outputs": [
    {
     "data": {
      "text/plain": [
       "vfi_loop (generic function with 2 methods)"
      ]
     },
     "execution_count": 46,
     "metadata": {},
     "output_type": "execute_result"
    }
   ],
   "source": [
    "using Optim: optimize\n",
    "using Interpolations\n",
    "using PyPlot\n",
    "\n",
    "## Primitives and grid\n",
    "alpha = 0.65\n",
    "beta = 0.95\n",
    "grid_max = 2\n",
    "grid_size = 1500\n",
    "grid_k = linspace(1e-6,grid_max,grid_size)\n",
    "u(c) = log(c)\n",
    "\n",
    "function optim_step(k,Vtilde_itp)\n",
    "    objective(c) = -u(c) - beta*Vtilde_itp[k^alpha - c]\n",
    "    res = optimize(objective,1e-6,k^alpha)\n",
    "    c_star = res.minimum\n",
    "    V1 = -objective(c_star)\n",
    "    return V1\n",
    "end\n",
    "\n",
    "function vfi_map(grid_k,criterion)\n",
    "    knots = (grid_k,) # knots for gridded linear interpolations\n",
    "    iter = 0\n",
    "    V0 = 5 .* log(grid_k)\n",
    "    distance = 1\n",
    "    while distance > criterion\n",
    "        Vtilde_itp = interpolate(knots, V0, Gridded(Linear()))\n",
    "        V1 = map(k -> optim_step(k,Vtilde_itp), grid_k)\n",
    "        distance = norm(V1-V0, Inf)\n",
    "        V0 = deepcopy(V1)\n",
    "        iter = iter + 1\n",
    "    end\n",
    "    return V0\n",
    "end\n",
    "\n",
    "function vfi_loop(grid_k,criterion)\n",
    "    knots = (grid_k,) # knots for gridded linear interpolations\n",
    "    iter = 0\n",
    "    V0 = 5 .* log(grid_k)\n",
    "    V1 = Array(Float64,length(grid_k))\n",
    "    distance = 1\n",
    "    while distance > criterion\n",
    "        Vtilde_itp = interpolate(knots, V0, Gridded(Linear()))\n",
    "        for (i,k) in enumerate(grid_k)\n",
    "            objective(c) = -u(c) - beta*Vtilde_itp[k^alpha - c]\n",
    "            res = optimize(objective,1e-6,k^alpha)\n",
    "            c_star = res.minimum\n",
    "            V1[i] = -objective(c_star)\n",
    "        end\n",
    "        distance = norm(V1-V0)\n",
    "        V0 = deepcopy(V1)\n",
    "        iter = iter + 1\n",
    "    end\n",
    "    return V0\n",
    "end"
   ]
  },
  {
   "cell_type": "markdown",
   "metadata": {},
   "source": [
    "We time the execution of the *optim_loop* function for capital grids of various lengths. The two functions *vfi_loop* and *vfi_map* have similar performance."
   ]
  },
  {
   "cell_type": "code",
   "execution_count": 47,
   "metadata": {
    "collapsed": false
   },
   "outputs": [
    {
     "name": "stdout",
     "output_type": "stream",
     "text": [
      "  1.682615 seconds (58.33 M allocations: 917.355 MB, 3.52% gc time)\n",
      "  4.851052 seconds (181.33 M allocations: 2.790 GB, 3.71% gc time)\n",
      "  9.309212 seconds (353.08 M allocations: 5.440 GB, 3.59% gc time)\n",
      " 13.839599 seconds (526.36 M allocations: 8.114 GB, 3.62% gc time)\n",
      " 99.549924 seconds (3.63 G allocations: 56.005 GB, 6.19% gc time)\n"
     ]
    }
   ],
   "source": [
    "grid_size_array = [150 500 1000 1500 10000]\n",
    "grids = Array(Any, length(grid_size_array))\n",
    "for (i,g) in enumerate(grid_size_array)\n",
    "    grids[i] = linspace(1e-6,grid_max,g)\n",
    "end\n",
    "\n",
    "for g in grids\n",
    "    @time V=vfi_loop(g,1e-6);\n",
    "end"
   ]
  },
  {
   "cell_type": "markdown",
   "metadata": {},
   "source": [
    "## Parallel execution\n",
    "\n",
    "Start by loading the modules on the main processor. Then define load modules *@everywhere*, i.e. on every working processor. It is often needed to load modules on the main processor first, to prevent them from overwriting each other. Also define the model parameters and functions *@everywhere*. \n",
    "\n",
    "The function *optim_step(k,Vtilde_itp)* is identical to the serial case. This is the step of the resolution of the model that we choose to parallelize. That is, we delegate the maximization of the value function for various values of $k$ to several processors.\n",
    "\n",
    "Then we gather the optimal values computed by the various processors into a *SharedArray*. This is what the function *vfi_ploop(grid_k,criterion)* does. \n",
    "\n",
    "At every iteration of the value function iteration, it delegates the various maximization problems to the various workers using a *@parallel for* loop (the macro *@sync* ensures that the program waits for all workers to complete their tasks before it goes on). \n",
    "\n",
    "The *SharedArray* makes the information contained in it readable for all workers. This is not strictly necessary here (we could have used a *DArray* -- a distributed array), but it is often more convenient to code up. "
   ]
  },
  {
   "cell_type": "code",
   "execution_count": 1,
   "metadata": {
    "collapsed": false
   },
   "outputs": [
    {
     "name": "stdout",
     "output_type": "stream",
     "text": [
      "Number of processors:\n",
      "8\n"
     ]
    }
   ],
   "source": [
    "## (Just for illustration, modules already loaded above)\n",
    "using Optim: optimize\n",
    "using Interpolations\n",
    "using PyPlot\n",
    "\n",
    "@everywhere begin\n",
    "    using Optim: optimize\n",
    "    using Interpolations\n",
    "    \n",
    "    ## Primitives and grid\n",
    "    alpha = 0.65\n",
    "    beta = 0.95\n",
    "    grid_max = 2\n",
    "    grid_size = 1500\n",
    "    grid_k = linspace(1e-6,grid_max,grid_size)\n",
    "    u(c) = log(c)\n",
    "\n",
    "    function optim_step(k,Vtilde_itp)\n",
    "        objective(c) = -u(c) - beta*Vtilde_itp[k^alpha - c]\n",
    "        res = optimize(objective,1e-6,k^alpha)\n",
    "        c_star = res.minimum\n",
    "        V1 = -objective(c_star)\n",
    "        return V1\n",
    "    end\n",
    "   \n",
    "    function vfi_ploop(grid_k,criterion)\n",
    "        knots = (grid_k,)\n",
    "        iter = 0\n",
    "        V0 = 5 .* log(grid_k)\n",
    "        distance = 1\n",
    "        while distance > criterion\n",
    "            Vtilde_itp = interpolate(knots, V0, Gridded(Linear()))\n",
    "            V1 = SharedArray(Float64,length(grid_k))\n",
    "            @sync @parallel for i in eachindex(grid_k)\n",
    "                V1[i] = optim_step(grid_k[i],Vtilde_itp)\n",
    "            end\n",
    "            distance = norm(V1-V0, Inf)\n",
    "            V0 = deepcopy(V1)\n",
    "            iter = iter + 1\n",
    "        end\n",
    "        return V0\n",
    "    end\n",
    "\n",
    "end"
   ]
  },
  {
   "cell_type": "code",
   "execution_count": 6,
   "metadata": {
    "collapsed": false
   },
   "outputs": [
    {
     "name": "stdout",
     "output_type": "stream",
     "text": [
      "  2.055595 seconds (4.95 M allocations: 363.230 MB, 2.03% gc time)\n",
      "  2.907471 seconds (4.64 M allocations: 353.288 MB, 1.21% gc time)\n",
      "  4.289460 seconds (4.64 M allocations: 371.430 MB, 0.89% gc time)\n",
      "  5.501156 seconds (4.65 M allocations: 389.692 MB, 0.80% gc time)\n",
      " 26.238703 seconds (4.67 M allocations: 400.790 MB, 0.18% gc time)\n"
     ]
    }
   ],
   "source": [
    "@everywhere begin\n",
    "    grid_size_array = [150 500 1000 1500 10000]\n",
    "    grids = Array(Any, length(grid_size_array))\n",
    "    for (i,g) in enumerate(grid_size_array)\n",
    "        grids[i] = linspace(1e-6,grid_max,g)\n",
    "    end\n",
    "end\n",
    "\n",
    "V = Array(Any, length(grids))\n",
    "for (i,g) in enumerate(grids)\n",
    "    @time V[i] = vfi_ploop(g,1e-6);\n",
    "end"
   ]
  },
  {
   "cell_type": "markdown",
   "metadata": {},
   "source": [
    "A few remarks:\n",
    "* The parallel solution for the first (smallest) grid runs longer than the next two solutions. \n",
    "* The serial solution does better than the parallel solution for the smallest grid, but not for larger grids. This illustrates the parallel programming trade-off between communication overhead and execution speed. \n",
    "* The speed of the parallel solution increases exponentially compared to the serial solution. "
   ]
  },
  {
   "cell_type": "markdown",
   "metadata": {},
   "source": [
    "To complete the exercise, let us plot the various value functions obtained for various grid precisions."
   ]
  },
  {
   "cell_type": "code",
   "execution_count": 25,
   "metadata": {
    "collapsed": false
   },
   "outputs": [
    {
     "data": {
      "image/png": "[encoded data removed]",
      "text/plain": [
       "PyPlot.Figure(PyObject <matplotlib.figure.Figure object at 0x000000002E83C550>)"
      ]
     },
     "metadata": {},
     "output_type": "display_data"
    },
    {
     "data": {
      "text/plain": [
       "PyObject <bound method Axes.legend of <matplotlib.axes._subplots.AxesSubplot object at 0x000000002F184198>>"
      ]
     },
     "execution_count": 25,
     "metadata": {},
     "output_type": "execute_result"
    }
   ],
   "source": [
    "fig, ax = subplots()\n",
    "for i in 1:length(grids)\n",
    "    x = grids[i]\n",
    "    y = V[i]\n",
    "    ax[:set_ylim](-40, -30)\n",
    "    ax[:set_xlim](minimum(grids[i]), maximum(grids[i])) \n",
    "    ax[:plot](x, y, \"k-\", lw=1, alpha=0.5, label = \"draw $i\")\n",
    "end\n",
    "ax[:legend]"
   ]
  },
  {
   "cell_type": "code",
   "execution_count": null,
   "metadata": {
    "collapsed": false
   },
   "outputs": [],
   "source": []
  },
  {
   "cell_type": "code",
   "execution_count": null,
   "metadata": {
    "collapsed": false
   },
   "outputs": [],
   "source": []
  },
  {
   "cell_type": "code",
   "execution_count": null,
   "metadata": {
    "collapsed": true
   },
   "outputs": [],
   "source": []
  }
 ],
 "metadata": {
  "kernelspec": {
   "display_name": "Julia 0.4.3",
   "language": "julia",
   "name": "julia-0.4"
  },
  "language_info": {
   "file_extension": ".jl",
   "mimetype": "application/julia",
   "name": "julia",
   "version": "0.4.3"
  }
 },
 "nbformat": 4,
 "nbformat_minor": 0
}
